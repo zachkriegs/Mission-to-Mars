{
 "cells": [
  {
   "cell_type": "code",
   "execution_count": 1,
   "id": "c13c1dc9-f7a1-4f3e-86e3-83b0a6709d70",
   "metadata": {},
   "outputs": [],
   "source": [
    "from bs4 import BeautifulSoup as soup"
   ]
  },
  {
   "cell_type": "code",
   "execution_count": 2,
   "id": "9634dcb5-fef0-468b-ae15-36755b14324a",
   "metadata": {},
   "outputs": [],
   "source": [
    "html = \"\"\"\n",
    "<!DOCTYPE html>\n",
    "<html lang=\"en\">\n",
    "\n",
    "<head>\n",
    "    <meta charset=\"UTF-8\">\n",
    "    <meta http-equiv=\"X-UA-Compatible\" content=\"IE=edge\">\n",
    "    <meta name=\"viewport\" content=\"width=device-width, initial-scale=1.0\">\n",
    "    <title>Document</title>\n",
    "</head>\n",
    "\n",
    "<body>\n",
    "    <div>\n",
    "        <h2>First heading</h2>\n",
    "        <p>First paragraph</p>\n",
    "    </div>\n",
    "\n",
    "    <div>\n",
    "        <h2>Second heading</h2>\n",
    "        <p>Second heading</p>\n",
    "    </div>\n",
    "</body>\n",
    "\n",
    "</html>\n",
    "\"\"\"\n"
   ]
  },
  {
   "cell_type": "code",
   "execution_count": 3,
   "id": "2ae5981f-b796-4511-9b5f-5e866d554bad",
   "metadata": {},
   "outputs": [
    {
     "name": "stdout",
     "output_type": "stream",
     "text": [
      "<!DOCTYPE html>\n",
      "<html lang=\"en\">\n",
      " <head>\n",
      "  <meta charset=\"utf-8\"/>\n",
      "  <meta content=\"IE=edge\" http-equiv=\"X-UA-Compatible\"/>\n",
      "  <meta content=\"width=device-width, initial-scale=1.0\" name=\"viewport\"/>\n",
      "  <title>\n",
      "   Document\n",
      "  </title>\n",
      " </head>\n",
      " <body>\n",
      "  <div>\n",
      "   <h2>\n",
      "    First heading\n",
      "   </h2>\n",
      "   <p>\n",
      "    First paragraph\n",
      "   </p>\n",
      "  </div>\n",
      "  <div>\n",
      "   <h2>\n",
      "    Second heading\n",
      "   </h2>\n",
      "   <p>\n",
      "    Second heading\n",
      "   </p>\n",
      "  </div>\n",
      " </body>\n",
      "</html>\n",
      "\n"
     ]
    }
   ],
   "source": [
    "html_soup = soup(html, 'html.parser')\n",
    "print(html_soup.prettify())"
   ]
  },
  {
   "cell_type": "code",
   "execution_count": 4,
   "id": "e22a0b39-773f-4e0f-9eb8-d5250cd0522e",
   "metadata": {},
   "outputs": [
    {
     "data": {
      "text/plain": [
       "<title>Document</title>"
      ]
     },
     "execution_count": 4,
     "metadata": {},
     "output_type": "execute_result"
    }
   ],
   "source": [
    "html_soup.title"
   ]
  },
  {
   "cell_type": "code",
   "execution_count": 5,
   "id": "161356bf-fa4a-483b-9e2d-3c9de284bc80",
   "metadata": {},
   "outputs": [
    {
     "name": "stdout",
     "output_type": "stream",
     "text": [
      "Document\n"
     ]
    }
   ],
   "source": [
    "doc_title = html_soup.title.text\n",
    "print(doc_title)"
   ]
  },
  {
   "cell_type": "code",
   "execution_count": 6,
   "id": "936b6e70-d8fd-4a79-9a28-4c694576c699",
   "metadata": {},
   "outputs": [
    {
     "name": "stdout",
     "output_type": "stream",
     "text": [
      "<div>\n",
      "<h2>First heading</h2>\n",
      "<p>First paragraph</p>\n",
      "</div>\n"
     ]
    }
   ],
   "source": [
    "div = html_soup.find(\"div\")\n",
    "print(div)"
   ]
  },
  {
   "cell_type": "code",
   "execution_count": 7,
   "id": "1623ab5a-4944-4807-80b4-633769182013",
   "metadata": {},
   "outputs": [],
   "source": [
    "doc_heading = html_soup.find(\"h2\").text"
   ]
  },
  {
   "cell_type": "code",
   "execution_count": 8,
   "id": "e81b8342-9e51-47a9-99f1-ea6653a58b81",
   "metadata": {},
   "outputs": [],
   "source": [
    "doc_paragraph = html_soup.find(\"p\").text"
   ]
  },
  {
   "cell_type": "code",
   "execution_count": 9,
   "id": "01462f9c-ee56-45b8-b067-c719fb631c45",
   "metadata": {},
   "outputs": [],
   "source": [
    "doc_info = {\"title\": doc_title,\n",
    "            \"heading\": doc_heading,\n",
    "            \"paragraph\": doc_paragraph}"
   ]
  },
  {
   "cell_type": "code",
   "execution_count": null,
   "id": "ef0d89b9-4131-4485-9e65-1062fa5b8c3e",
   "metadata": {},
   "outputs": [],
   "source": []
  }
 ],
 "metadata": {
  "kernelspec": {
   "display_name": "Python 3 (ipykernel)",
   "language": "python",
   "name": "python3"
  },
  "language_info": {
   "codemirror_mode": {
    "name": "ipython",
    "version": 3
   },
   "file_extension": ".py",
   "mimetype": "text/x-python",
   "name": "python",
   "nbconvert_exporter": "python",
   "pygments_lexer": "ipython3",
   "version": "3.9.13"
  }
 },
 "nbformat": 4,
 "nbformat_minor": 5
}
